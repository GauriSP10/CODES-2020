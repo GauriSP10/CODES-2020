{
 "cells": [
  {
   "cell_type": "markdown",
   "metadata": {},
   "source": [
    "<b> Inverse of mask using threshold </b>"
   ]
  },
  {
   "cell_type": "markdown",
   "metadata": {},
   "source": [
    "<b> To explain the working of mask inverse threshold function using Opencv </b>"
   ]
  },
  {
   "cell_type": "code",
   "execution_count": 1,
   "metadata": {},
   "outputs": [],
   "source": [
    "#Importing necessary modules.\n",
    "import cv2\n",
    "import numpy as np\n",
    "\n",
    "#Reading 2 images of indentical size (560 x 350).\n",
    "img1 = cv2.imread('G1.jpg')\n",
    "img2 = cv2.imread('G2.jpg')\n",
    "\n",
    "#To insert logo on top-left corner create a 'ROI'.\n",
    "rows,cols,channels = img2.shape\n",
    "roi = img1[0:rows, 0:cols]\n",
    "\n",
    "#Creating a mask of logo and creating its inverse, mask generally is of grey scale.\n",
    "img2gray = cv2.cvtColor(img2,cv2.COLOR_BGR2GRAY)\n",
    "\n",
    "#Adding a threshold.\n",
    "#Threshold: It converts all pixels to either black or white, based on the threshold value.\n",
    "ret, mask = cv2.threshold(img2gray, 220, 255, cv2.THRESH_BINARY_INV)\n",
    "cv2.imshow('Mask', mask)\n",
    "cv2.waitKey(0)\n",
    "cv2.destroyAllWindows()"
   ]
  },
  {
   "cell_type": "code",
   "execution_count": null,
   "metadata": {},
   "outputs": [],
   "source": []
  },
  {
   "cell_type": "markdown",
   "metadata": {},
   "source": [
    "<b> To understand the concept of edge detection using laplacian of an MP4 video. </b>"
   ]
  },
  {
   "cell_type": "markdown",
   "metadata": {},
   "source": [
    "<b> Laplacian Edge Detection on MP4 </b>"
   ]
  },
  {
   "cell_type": "code",
   "execution_count": 3,
   "metadata": {},
   "outputs": [],
   "source": [
    "#Importing necessary modules.\n",
    "import cv2\n",
    "import numpy as np\n",
    "\n",
    "#Capturing the video.\n",
    "cap = cv2.VideoCapture('Pexels Videos.mp4')\n",
    "\n",
    "while(True):\n",
    "\n",
    "#Taking each frame.\n",
    "  _, frame = cap.read()\n",
    "    \n",
    "   #Laplacian Edge Detection.\n",
    "  laplacian = cv2.Laplacian(frame,cv2.CV_64F)\n",
    "   \n",
    " #Returning the riginal and manipulated video.\n",
    "  cv2.imshow('Original',frame)\n",
    "  cv2.imshow('Laplacian',laplacian)\n",
    "   \n",
    "  k = cv2.waitKey(5) & 0xFF\n",
    "  if k == 27:\n",
    "    break\n",
    "\n",
    "cv2.destroyAllWindows()\n",
    "cap.release()\n"
   ]
  },
  {
   "cell_type": "code",
   "execution_count": null,
   "metadata": {},
   "outputs": [],
   "source": []
  },
  {
   "cell_type": "code",
   "execution_count": null,
   "metadata": {},
   "outputs": [],
   "source": []
  }
 ],
 "metadata": {
  "kernelspec": {
   "display_name": "Python 3",
   "language": "python",
   "name": "python3"
  },
  "language_info": {
   "codemirror_mode": {
    "name": "ipython",
    "version": 3
   },
   "file_extension": ".py",
   "mimetype": "text/x-python",
   "name": "python",
   "nbconvert_exporter": "python",
   "pygments_lexer": "ipython3",
   "version": "3.8.5"
  }
 },
 "nbformat": 4,
 "nbformat_minor": 4
}
