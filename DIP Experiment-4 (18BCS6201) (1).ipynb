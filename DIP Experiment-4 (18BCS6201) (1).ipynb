{
 "cells": [
  {
   "cell_type": "markdown",
   "metadata": {},
   "source": [
    "<b> Arithmetic operations on images </b>"
   ]
  },
  {
   "cell_type": "markdown",
   "metadata": {},
   "source": [
    "<b> Image addition </b>"
   ]
  },
  {
   "cell_type": "code",
   "execution_count": 10,
   "metadata": {},
   "outputs": [],
   "source": [
    "#We can add two images by OpenCV function which is cv2.add() or simply by numpy operation which is res = img1 + img2. Both images should be of same depth and type, or second image can just be a scalar value.\n",
    "#Importing necessary modules.\n",
    "import cv2\n",
    "import numpy as np\n",
    "\n",
    "#Reading 2 images of indentical size (560 x 350).\n",
    "img1 = cv2.imread('a.jpg')\n",
    "img2 = cv2.imread('b.jpg')\n",
    "\n",
    "#Adding the 2 images.\n",
    "add = img1+img2\n",
    "cv2.imshow('Addition',add)\n",
    "cv2.waitKey(0)\n",
    "cv2.destroyAllWindows()"
   ]
  },
  {
   "cell_type": "code",
   "execution_count": 11,
   "metadata": {},
   "outputs": [],
   "source": [
    "#Importing necessary modules.\n",
    "import cv2\n",
    "import numpy as np\n",
    "\n",
    "#Reading 2 images of indentical size (560 x 350).\n",
    "img1 = cv2.imread('a.jpg')\n",
    "img2 = cv2.imread('b.jpg')\n",
    "\n",
    "#Adding the 2 images.\n",
    "add = cv2.add(img1,img2)\n",
    "cv2.imshow('Addition',add)\n",
    "cv2.waitKey(0)\n",
    "cv2.destroyAllWindows()"
   ]
  },
  {
   "cell_type": "markdown",
   "metadata": {},
   "source": [
    "<b> Image Blending </b>"
   ]
  },
  {
   "cell_type": "code",
   "execution_count": 12,
   "metadata": {},
   "outputs": [],
   "source": [
    "#This is also image addition, but different weights are given to the images so that it gives a feeling of blending or transparency.\n",
    "#By varying alpha from 0-1, we can perform an interesting transition from one image to another. \n",
    "#Gamma is taken to be zero.\n",
    "#Importing necessary modules.\n",
    "import cv2\n",
    "import numpy as np\n",
    "\n",
    "#Reading 2 images of indentical size (560 x 350).\n",
    "img1 = cv2.imread('a.jpg')\n",
    "img2 = cv2.imread('b.jpg')\n",
    "\n",
    "#Arguments of '.addWeighted()' method are:image,the weight,the second image,second weight,gamma value, which is a measurement of light.\n",
    "weighted = cv2.addWeighted(img1, 0.5, img2, 0.3, 0)\n",
    "cv2.imshow(' Weighted Addition',weighted)\n",
    "cv2.waitKey(0)\n",
    "cv2.destroyAllWindows()"
   ]
  },
  {
   "cell_type": "markdown",
   "metadata": {},
   "source": [
    "<b> Inverse of mask using threshold </b>"
   ]
  },
  {
   "cell_type": "code",
   "execution_count": 13,
   "metadata": {},
   "outputs": [],
   "source": [
    "#Importing necessary modules.\n",
    "import cv2\n",
    "import numpy as np\n",
    "\n",
    "#Reading 2 images of indentical size (560 x 350).\n",
    "img1 = cv2.imread('a.jpg')\n",
    "img2 = cv2.imread('b.jpg')\n",
    "\n",
    "#To insert logo on top-left corner create a 'ROI'.\n",
    "rows,cols,channels = img2.shape\n",
    "roi = img1[0:rows, 0:cols]\n",
    "\n",
    "#Creating a mask of logo and creating its inverse, mask generally is of grey scale.\n",
    "img2gray = cv2.cvtColor(img2,cv2.COLOR_BGR2GRAY)\n",
    "\n",
    "#Adding a threshold.\n",
    "#Threshold: It converts all pixels to either black or white, based on the threshold value.\n",
    "ret, mask = cv2.threshold(img2gray, 220, 255, cv2.THRESH_BINARY_INV)\n",
    "cv2.imshow('Mask', mask)\n",
    "cv2.waitKey(0)\n",
    "cv2.destroyAllWindows()\n"
   ]
  },
  {
   "cell_type": "markdown",
   "metadata": {},
   "source": [
    "<b> Bitwise operations </b>"
   ]
  },
  {
   "cell_type": "code",
   "execution_count": 14,
   "metadata": {},
   "outputs": [],
   "source": [
    "#Importing necessary modules.\n",
    "import cv2\n",
    "import numpy as np\n",
    "\n",
    "#Reading 2 images of indentical size (560 x 350).\n",
    "img1 = cv2.imread('a.jpg')\n",
    "img2 = cv2.imread('b.jpg')\n",
    "\n",
    "#To insert logo on top-left corner create a 'ROI'.\n",
    "rows,cols,channels = img2.shape\n",
    "roi = img1[0:rows, 0:cols ]\n",
    "\n",
    "#Creating a mask of logo and creating its inverse, mask generally is of grey scale.\n",
    "img2gray = cv2.cvtColor(img2,cv2.COLOR_BGR2GRAY)\n",
    "\n",
    "#Adding a threshold.\n",
    "#Threshold: It converts all pixels to either black or white, based on the threshold value.\n",
    "ret, mask = cv2.threshold(img2gray, 220, 255, cv2.THRESH_BINARY_INV)\n",
    "\n",
    "#Performing bitwise operations.\n",
    "#bitwise_not \n",
    "#bitwise_and \n",
    "#bitwise_or \n",
    "#bitwise_xor\n",
    "mask_inv = cv2.bitwise_not(mask)\n",
    "\n",
    "#Our goal is to black out this area in the first image, and then take image 2 and replace it's contents in that empty spot.\n",
    "#Now black-out the area of logo in ROI, bitwise is a lowlevel logical operation.\n",
    "\n",
    "img1_bg = cv2.bitwise_and(roi,roi,mask = mask_inv)\n",
    "\n",
    "#Taking only logo from the logo image.\n",
    "img2_fg = cv2.bitwise_and(img2,img2,mask = mask)\n",
    "dst = cv2.add(img1_bg,img2_fg)\n",
    "img1[0:rows, 0:cols ] = dst\n",
    "cv2.imshow('res', img1)\n",
    "cv2.imshow('mask_inv', mask_inv)\n",
    "cv2.imshow('img1_bg', img1_bg)\n",
    "cv2.imshow('img2_fg', img2_fg)\n",
    "cv2.imshow('dst', dst)\n",
    "cv2.waitKey(0)\n",
    "cv2.destroyAllWindows()\n"
   ]
  },
  {
   "cell_type": "markdown",
   "metadata": {},
   "source": [
    "<b> Bitwise operation without using inverse of mask </b>\n"
   ]
  },
  {
   "cell_type": "code",
   "execution_count": null,
   "metadata": {},
   "outputs": [],
   "source": [
    "#Importing necessary modules.\n",
    "img1 = cv2.imread('a.jpg')\n",
    "img2 = cv2.imread('b.jpg')\n",
    "\n",
    "#To insert logo on top-left corner create a 'ROI'.\n",
    "rows,cols,channels = img2.shape\n",
    "roi = img1[0:rows, 0:cols ]\n",
    "\n",
    "#Creating a mask of logo and creating its inverse, mask generally is of grey scale.\n",
    "img2gray = cv2.cvtColor(img2,cv2.COLOR_BGR2GRAY)\n",
    "ret, mask = cv2.threshold(img2gray, 10, 255, cv2.THRESH_BINARY)\n",
    "mask_inv = cv2.bitwise_not(mask)\n",
    "\n",
    "#Blacking-out the area of the logo in 'ROI'.\n",
    "img1_bg = cv2.bitwise_and(roi,roi,mask = mask_inv)\n",
    "\n",
    "##Taking only logo from the logo image.\n",
    "img2_fg = cv2.bitwise_and(img2,img2,mask = mask)\n",
    "\n",
    "#Putting logo in 'ROI' and modifying the main image.\n",
    "dst = cv2.add(img1_bg,img2_fg)\n",
    "img1[0:rows, 0:cols ] = dst\n",
    "cv2.imshow('res',img1)\n",
    "cv2.waitKey(0)\n",
    "cv2.destroyAllWindows()\n"
   ]
  },
  {
   "cell_type": "code",
   "execution_count": null,
   "metadata": {},
   "outputs": [],
   "source": []
  },
  {
   "cell_type": "code",
   "execution_count": null,
   "metadata": {},
   "outputs": [],
   "source": []
  }
 ],
 "metadata": {
  "kernelspec": {
   "display_name": "Python 3",
   "language": "python",
   "name": "python3"
  },
  "language_info": {
   "codemirror_mode": {
    "name": "ipython",
    "version": 3
   },
   "file_extension": ".py",
   "mimetype": "text/x-python",
   "name": "python",
   "nbconvert_exporter": "python",
   "pygments_lexer": "ipython3",
   "version": "3.7.6"
  }
 },
 "nbformat": 4,
 "nbformat_minor": 4
}
