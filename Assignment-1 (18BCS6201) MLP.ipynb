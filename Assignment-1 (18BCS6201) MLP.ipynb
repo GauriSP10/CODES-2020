{
 "cells": [
  {
   "cell_type": "markdown",
   "metadata": {},
   "source": [
    "<b> Importing necessary libraries and warnings </b>"
   ]
  },
  {
   "cell_type": "code",
   "execution_count": 288,
   "metadata": {},
   "outputs": [],
   "source": [
    "#Importing libraries.\n",
    "import numpy as np\n",
    "import pandas as pd\n",
    "from sklearn import linear_model\n",
    "from sklearn.linear_model import LinearRegression\n",
    "from sklearn.linear_model import Ridge\n",
    "import matplotlib.pyplot as plt\n",
    "from sklearn.linear_model import Lasso\n",
    "import seaborn as sns\n",
    "from sklearn.model_selection import GridSearchCV\n",
    "import os\n",
    "import warnings\n",
    "warnings.filterwarnings('ignore')"
   ]
  },
  {
   "cell_type": "markdown",
   "metadata": {},
   "source": [
    "<b> Reading data files to a .csv file and creating dataframes </b>"
   ]
  },
  {
   "cell_type": "code",
   "execution_count": 289,
   "metadata": {},
   "outputs": [],
   "source": [
    "#Reading data files from the system.\n",
    "Cars = pd.read_csv(r\"C:\\Users\\Helenasec\\Desktop\\CU\\SEM-5\\Case Study Python\\co2_prediction dataset\\co2_prediction\\cars_trucks_and_buses_per_1000_persons.csv\")\n",
    "Electuse = pd.read_csv(r\"C:\\Users\\Helenasec\\Desktop\\CU\\SEM-5\\Case Study Python\\co2_prediction dataset\\co2_prediction\\electricity_use_per_person.csv\")\n",
    "Hydro = pd.read_csv(r\"C:\\Users\\Helenasec\\Desktop\\CU\\SEM-5\\Case Study Python\\co2_prediction dataset\\co2_prediction\\hydro_power_generation_per_person.csv\")\n",
    "Income = pd.read_csv(r\"C:\\Users\\Helenasec\\Desktop\\CU\\SEM-5\\Case Study Python\\co2_prediction dataset\\co2_prediction\\income_per_person_gdppercapita_ppp_inflation_adjusted.csv\")\n",
    "Ind = pd.read_csv(r\"C:\\Users\\Helenasec\\Desktop\\CU\\SEM-5\\Case Study Python\\co2_prediction dataset\\co2_prediction\\industry_percent_of_gdp.csv\")\n",
    "Oilcon = pd.read_csv(r\"C:\\Users\\Helenasec\\Desktop\\CU\\SEM-5\\Case Study Python\\co2_prediction dataset\\co2_prediction\\oil_consumption_per_cap.csv\")\n",
    "Oilprod = pd.read_csv(r\"C:\\Users\\Helenasec\\Desktop\\CU\\SEM-5\\Case Study Python\\co2_prediction dataset\\co2_prediction\\oil_production_per_person.csv\")\n",
    "Co2emm = pd.read_csv(r\"C:\\Users\\Helenasec\\Desktop\\CU\\SEM-5\\Case Study Python\\co2_prediction dataset\\co2_prediction\\yearly_co2_emissions_1000_tonnes.csv\")\n",
    "Ngas = pd.read_csv(r\"C:\\Users\\Helenasec\\Desktop\\CU\\SEM-5\\Case Study Python\\co2_prediction dataset\\co2_prediction\\natural_gas_production_per_person.csv\")\n",
    "Forest =pd.read_csv(r\"C:\\Users\\Helenasec\\Desktop\\CU\\SEM-5\\Case Study Python\\co2_prediction dataset\\co2_prediction\\forest_coverage_percent.csv\")\n",
    "Co2 = pd.read_csv(r\"C:\\Users\\Helenasec\\Desktop\\CU\\SEM-5\\Case Study Python\\co2_prediction dataset\\co2_prediction\\co2_emissions_tonnes_per_person.csv\")\n",
    "Coal = pd.read_csv(r\"C:\\Users\\Helenasec\\Desktop\\CU\\SEM-5\\Case Study Python\\co2_prediction dataset\\co2_prediction\\coal_consumption_per_cap.csv\")\n",
    "Electgen = pd.read_csv(r\"C:\\Users\\Helenasec\\Desktop\\CU\\SEM-5\\Case Study Python\\co2_prediction dataset\\co2_prediction\\electricity_generation_per_person.csv\")"
   ]
  },
  {
   "cell_type": "markdown",
   "metadata": {},
   "source": [
    "<b> Altering dataframes to contain only attributes:'geo' and '2014' </b>"
   ]
  },
  {
   "cell_type": "code",
   "execution_count": 290,
   "metadata": {},
   "outputs": [],
   "source": [
    "#Altering dataframes.\n",
    "Cars = Cars['geo']\n",
    "Electuse = Electuse[['geo','2014']]\n",
    "Hydro = Hydro['geo']\n",
    "Income = Income[['geo','2014']]\n",
    "Ind = Ind[['geo','2014']][['geo','2014']]\n",
    "Oilcon = Oilcon[['geo','2014']]\n",
    "Oilprod = Oilprod[['geo','2014']]\n",
    "Co2emm = Co2emm[['geo','2014']]\n",
    "Forest = Forest[['geo','2014']]\n",
    "Co2 = Co2[['geo','2014']]\n",
    "Coal= Coal[['geo','2014']]\n",
    "Electgen = Electgen[['geo','2014']]"
   ]
  },
  {
   "cell_type": "markdown",
   "metadata": {},
   "source": [
    "<b> Renaming column in all dataframes with '2014' as an attribute </b>"
   ]
  },
  {
   "cell_type": "code",
   "execution_count": 291,
   "metadata": {},
   "outputs": [],
   "source": [
    "#Renaming dataframe's column using '.rename' function.\n",
    "Electuse.rename(columns = {'2014':'elecdata'}, inplace = True)\n",
    "Co2emm.rename(columns = {'2014':'co2emdata'}, inplace = True)\n",
    "Income.rename(columns = {'2014':'incdata'}, inplace = True)\n",
    "Ind.rename(columns = {'2014':'inddata'}, inplace = True)\n",
    "Oilcon.rename(columns = {'2014':'oilcdata'}, inplace = True)\n",
    "Oilprod.rename(columns = {'2014':'oilpdata'}, inplace = True)\n",
    "Forest.rename(columns = {'2014':'forest'}, inplace = True)\n",
    "Co2.rename(columns = {'2014':'co2data'}, inplace = True)\n",
    "Coal.rename(columns = {'2014':'coaldata'}, inplace = True)\n",
    "Electgen.rename(columns = {'2014':'egdata'}, inplace = True)"
   ]
  },
  {
   "cell_type": "markdown",
   "metadata": {},
   "source": [
    "<b> Merging all dataframes via 'Outer Join' on 'geo' </b>"
   ]
  },
  {
   "cell_type": "code",
   "execution_count": 292,
   "metadata": {},
   "outputs": [
    {
     "data": {
      "text/html": [
       "<div>\n",
       "<style scoped>\n",
       "    .dataframe tbody tr th:only-of-type {\n",
       "        vertical-align: middle;\n",
       "    }\n",
       "\n",
       "    .dataframe tbody tr th {\n",
       "        vertical-align: top;\n",
       "    }\n",
       "\n",
       "    .dataframe thead th {\n",
       "        text-align: right;\n",
       "    }\n",
       "</style>\n",
       "<table border=\"1\" class=\"dataframe\">\n",
       "  <thead>\n",
       "    <tr style=\"text-align: right;\">\n",
       "      <th></th>\n",
       "      <th>geo</th>\n",
       "      <th>co2data</th>\n",
       "      <th>coaldata</th>\n",
       "      <th>egdata</th>\n",
       "      <th>elecdata</th>\n",
       "      <th>incdata</th>\n",
       "      <th>inddata</th>\n",
       "      <th>oilcdata</th>\n",
       "      <th>oilpdata</th>\n",
       "      <th>forest</th>\n",
       "      <th>co2emdata</th>\n",
       "    </tr>\n",
       "  </thead>\n",
       "  <tbody>\n",
       "    <tr>\n",
       "      <th>0</th>\n",
       "      <td>Afghanistan</td>\n",
       "      <td>0.299</td>\n",
       "      <td>NaN</td>\n",
       "      <td>NaN</td>\n",
       "      <td>NaN</td>\n",
       "      <td>1780.0</td>\n",
       "      <td>21.1</td>\n",
       "      <td>NaN</td>\n",
       "      <td>NaN</td>\n",
       "      <td>2.07</td>\n",
       "      <td>9810.0</td>\n",
       "    </tr>\n",
       "    <tr>\n",
       "      <th>1</th>\n",
       "      <td>Albania</td>\n",
       "      <td>1.960</td>\n",
       "      <td>NaN</td>\n",
       "      <td>NaN</td>\n",
       "      <td>2310.0</td>\n",
       "      <td>10700.0</td>\n",
       "      <td>21.5</td>\n",
       "      <td>NaN</td>\n",
       "      <td>NaN</td>\n",
       "      <td>28.20</td>\n",
       "      <td>5720.0</td>\n",
       "    </tr>\n",
       "    <tr>\n",
       "      <th>2</th>\n",
       "      <td>Algeria</td>\n",
       "      <td>3.720</td>\n",
       "      <td>0.00458</td>\n",
       "      <td>1640.0</td>\n",
       "      <td>1360.0</td>\n",
       "      <td>13500.0</td>\n",
       "      <td>42.3</td>\n",
       "      <td>0.452</td>\n",
       "      <td>1.760</td>\n",
       "      <td>0.82</td>\n",
       "      <td>145000.0</td>\n",
       "    </tr>\n",
       "    <tr>\n",
       "      <th>3</th>\n",
       "      <td>Angola</td>\n",
       "      <td>1.290</td>\n",
       "      <td>NaN</td>\n",
       "      <td>NaN</td>\n",
       "      <td>312.0</td>\n",
       "      <td>6260.0</td>\n",
       "      <td>NaN</td>\n",
       "      <td>NaN</td>\n",
       "      <td>3.080</td>\n",
       "      <td>46.50</td>\n",
       "      <td>34800.0</td>\n",
       "    </tr>\n",
       "    <tr>\n",
       "      <th>4</th>\n",
       "      <td>Argentina</td>\n",
       "      <td>4.750</td>\n",
       "      <td>0.03460</td>\n",
       "      <td>3290.0</td>\n",
       "      <td>3050.0</td>\n",
       "      <td>18800.0</td>\n",
       "      <td>24.3</td>\n",
       "      <td>0.729</td>\n",
       "      <td>0.695</td>\n",
       "      <td>10.00</td>\n",
       "      <td>204000.0</td>\n",
       "    </tr>\n",
       "  </tbody>\n",
       "</table>\n",
       "</div>"
      ],
      "text/plain": [
       "           geo  co2data  coaldata  egdata  elecdata  incdata  inddata  \\\n",
       "0  Afghanistan    0.299       NaN     NaN       NaN   1780.0     21.1   \n",
       "1      Albania    1.960       NaN     NaN    2310.0  10700.0     21.5   \n",
       "2      Algeria    3.720   0.00458  1640.0    1360.0  13500.0     42.3   \n",
       "3       Angola    1.290       NaN     NaN     312.0   6260.0      NaN   \n",
       "4    Argentina    4.750   0.03460  3290.0    3050.0  18800.0     24.3   \n",
       "\n",
       "   oilcdata  oilpdata  forest  co2emdata  \n",
       "0       NaN       NaN    2.07     9810.0  \n",
       "1       NaN       NaN   28.20     5720.0  \n",
       "2     0.452     1.760    0.82   145000.0  \n",
       "3       NaN     3.080   46.50    34800.0  \n",
       "4     0.729     0.695   10.00   204000.0  "
      ]
     },
     "execution_count": 292,
     "metadata": {},
     "output_type": "execute_result"
    }
   ],
   "source": [
    "#Merging datframes using '.merge' function.\n",
    "A = pd.merge(Cars,Co2,how= 'outer', on='geo')\n",
    "B = pd.merge(A,Coal,how= 'outer', on='geo')\n",
    "C = pd.merge(B,Electgen,how= 'outer', on='geo')\n",
    "D = pd.merge(C,Electuse,how= 'outer', on='geo')\n",
    "E = pd.merge(D,Hydro,how= 'outer', on='geo')\n",
    "F = pd.merge(E,Income,how= 'outer', on='geo')\n",
    "G = pd.merge(F,Ind,how= 'outer', on='geo')\n",
    "H = pd.merge(G,Oilcon,how= 'outer', on='geo')\n",
    "I = pd.merge(H,Oilprod,how= 'outer', on='geo')\n",
    "J = pd.merge(I,Forest,how='outer', on= 'geo')\n",
    "df=pd.merge(J,Co2emm,how= 'outer', on='geo')\n",
    "#Returning the dataframe 'df'.\n",
    "df.head()"
   ]
  },
  {
   "cell_type": "markdown",
   "metadata": {},
   "source": [
    "<b> Data Cleaning </b>"
   ]
  },
  {
   "cell_type": "code",
   "execution_count": 293,
   "metadata": {},
   "outputs": [
    {
     "name": "stdout",
     "output_type": "stream",
     "text": [
      "<class 'pandas.core.frame.DataFrame'>\n",
      "Int64Index: 194 entries, 0 to 193\n",
      "Data columns (total 11 columns):\n",
      " #   Column     Non-Null Count  Dtype  \n",
      "---  ------     --------------  -----  \n",
      " 0   geo        194 non-null    object \n",
      " 1   co2data    192 non-null    float64\n",
      " 2   coaldata   65 non-null     float64\n",
      " 3   egdata     65 non-null     float64\n",
      " 4   elecdata   137 non-null    float64\n",
      " 5   incdata    193 non-null    float64\n",
      " 6   inddata    183 non-null    float64\n",
      " 7   oilcdata   65 non-null     float64\n",
      " 8   oilpdata   49 non-null     float64\n",
      " 9   forest     191 non-null    float64\n",
      " 10  co2emdata  192 non-null    float64\n",
      "dtypes: float64(10), object(1)\n",
      "memory usage: 18.2+ KB\n"
     ]
    }
   ],
   "source": [
    "#Returning basic info about dataframe 'df'.\n",
    "df.info()"
   ]
  },
  {
   "cell_type": "code",
   "execution_count": 294,
   "metadata": {},
   "outputs": [
    {
     "data": {
      "text/plain": [
       "194"
      ]
     },
     "execution_count": 294,
     "metadata": {},
     "output_type": "execute_result"
    }
   ],
   "source": [
    "#Counting the number of values in 'df'.\n",
    "df['geo'].value_counts().sum()"
   ]
  },
  {
   "cell_type": "code",
   "execution_count": 295,
   "metadata": {},
   "outputs": [
    {
     "data": {
      "text/plain": [
       "geo            0\n",
       "co2data        2\n",
       "coaldata     129\n",
       "egdata       129\n",
       "elecdata      57\n",
       "incdata        1\n",
       "inddata       11\n",
       "oilcdata     129\n",
       "oilpdata     145\n",
       "forest         3\n",
       "co2emdata      2\n",
       "dtype: int64"
      ]
     },
     "execution_count": 295,
     "metadata": {},
     "output_type": "execute_result"
    }
   ],
   "source": [
    "#Returning total null/missing values in 'df'.\n",
    "df.isnull().sum()"
   ]
  },
  {
   "cell_type": "code",
   "execution_count": 296,
   "metadata": {},
   "outputs": [
    {
     "data": {
      "text/plain": [
       "<matplotlib.axes._subplots.AxesSubplot at 0x239a85be7c8>"
      ]
     },
     "execution_count": 296,
     "metadata": {},
     "output_type": "execute_result"
    },
    {
     "data": {
      "image/png": "[encoded data removed]",
      "text/plain": [
       "<Figure size 432x288 with 2 Axes>"
      ]
     },
     "metadata": {
      "needs_background": "light"
     },
     "output_type": "display_data"
    }
   ],
   "source": [
    "#Returning/visualising total null/missing values in 'df'.\n",
    "#First 30 columns.\n",
    "cols = df.columns[:30] \n",
    "#Green missing value,Brown not missing.\n",
    "colours = ['#ADFF2F', '#333300'] \n",
    "sns.heatmap(df[cols].isnull(), cmap=sns.color_palette(colours))"
   ]
  },
  {
   "cell_type": "markdown",
   "metadata": {},
   "source": [
    "<b> Dropping columns  'coaldata', 'egdata', 'oilcdata', 'oilpdata' as they have a number of null values </b>"
   ]
  },
  {
   "cell_type": "code",
   "execution_count": 297,
   "metadata": {},
   "outputs": [
    {
     "data": {
      "text/plain": [
       "geo          0\n",
       "co2data      0\n",
       "elecdata     0\n",
       "incdata      0\n",
       "inddata      0\n",
       "forest       0\n",
       "co2emdata    0\n",
       "dtype: int64"
      ]
     },
     "execution_count": 297,
     "metadata": {},
     "output_type": "execute_result"
    }
   ],
   "source": [
    "#Dropping unnecessary columns and filling other column's null values with the 'mean'.\n",
    "df = df.drop(['coaldata','egdata','oilcdata','oilpdata'], axis=1)\n",
    "df['co2data'].fillna(value = (df['co2data'].mean()), inplace=True)\n",
    "df['incdata'].fillna(value = (df['incdata'].mean()), inplace=True)\n",
    "df['co2emdata'].fillna(value = (df['co2emdata'].mean()), inplace=True)\n",
    "df['elecdata'].fillna(value = (df['elecdata'].mean()), inplace=True)\n",
    "df['inddata'].fillna(value = (df['inddata'].mean()), inplace=True)\n",
    "df['forest'].fillna(value = (df['forest'].mean()), inplace=True)\n",
    "\n",
    "#Checking for null values now.\n",
    "df.isnull().sum()"
   ]
  },
  {
   "cell_type": "markdown",
   "metadata": {},
   "source": [
    "<b> Data Visualization </b>"
   ]
  },
  {
   "cell_type": "code",
   "execution_count": 298,
   "metadata": {},
   "outputs": [
    {
     "data": {
      "image/png": "[encoded data removed]",
      "text/plain": [
       "<Figure size 1440x720 with 5 Axes>"
      ]
     },
     "metadata": {
      "needs_background": "light"
     },
     "output_type": "display_data"
    }
   ],
   "source": [
    "#Plotting boxplots.\n",
    "plt.figure(figsize=(20, 10))\n",
    "\n",
    "plt.subplot(2,3,1)\n",
    "sns.boxplot(y= 'co2data', data = df, color=\"0.25\")\n",
    "\n",
    "plt.subplot(2,3,2)\n",
    "sns.boxplot(y= 'elecdata', data = df, palette=\"Greens\")\n",
    "\n",
    "plt.subplot(2,3,3)\n",
    "sns.boxplot(y = 'inddata', data = df, color=\"Magenta\")\n",
    "\n",
    "plt.subplot(2,3,4)\n",
    "sns.boxplot(y= 'incdata', data = df, color=\"Orange\")\n",
    "\n",
    "\n",
    "plt.subplot(2,3,5)\n",
    "sns.boxplot(y = 'forest',  data = df, palette=\"Blues\")\n",
    "\n",
    "#Returning the plots.\n",
    "plt.show()"
   ]
  },
  {
   "cell_type": "code",
   "execution_count": 299,
   "metadata": {},
   "outputs": [],
   "source": [
    "#Getting rid of outliers.\n",
    "df=df[(df.incdata<8000)]\n",
    "df=df[df['co2data']<26]\n",
    "df=df[df['elecdata']<22000]\n",
    "df=df[df['inddata']<67]"
   ]
  },
  {
   "cell_type": "code",
   "execution_count": 300,
   "metadata": {},
   "outputs": [
    {
     "data": {
      "image/png": "[encoded data removed]",
      "text/plain": [
       "<Figure size 1440x864 with 4 Axes>"
      ]
     },
     "metadata": {
      "needs_background": "light"
     },
     "output_type": "display_data"
    }
   ],
   "source": [
    "#Plotting boxplots.\n",
    "plt.figure(figsize=(20, 12))\n",
    "\n",
    "plt.subplot(2,3,1)\n",
    "sns.boxplot(y= 'elecdata', data = df, color=\"0.25\")\n",
    "\n",
    "plt.subplot(2,3,2)\n",
    "sns.boxplot(y= 'co2data', data = df, palette=\"Greens\")\n",
    "\n",
    "plt.subplot(2,3,3)\n",
    "sns.boxplot(y= 'incdata', data = df, color=\"Magenta\")\n",
    "\n",
    "plt.subplot(2,3,4)\n",
    "sns.boxplot(y = 'inddata', data = df, color=\"Orange\")\n",
    "\n",
    "#Returning the plot.\n",
    "plt.show()"
   ]
  },
  {
   "cell_type": "code",
   "execution_count": 301,
   "metadata": {},
   "outputs": [
    {
     "data": {
      "image/png": "[encoded data removed]",
      "text/plain": [
       "<Figure size 2880x2160 with 2 Axes>"
      ]
     },
     "metadata": {
      "needs_background": "light"
     },
     "output_type": "display_data"
    }
   ],
   "source": [
    "#Plotting a heatmap.\n",
    "plt.figure(figsize = (40,30))\n",
    "#Using '.corr' to find the relationship between the attributes.\n",
    "sns.heatmap(df.corr(), annot = True, cmap=\"YlGnBu\")\n",
    "plt.show()"
   ]
  },
  {
   "cell_type": "code",
   "execution_count": 302,
   "metadata": {},
   "outputs": [
    {
     "name": "stdout",
     "output_type": "stream",
     "text": [
      "No such any multicollienarity exists as the precitor variables are slightly corelated to the target variable 'co2data'.\n"
     ]
    }
   ],
   "source": [
    "print(\"No such any multicollienarity exists as the precitor variables are slightly corelated to the target variable 'co2data'.\")"
   ]
  },
  {
   "cell_type": "markdown",
   "metadata": {},
   "source": [
    "<b> Data Preparation </b>"
   ]
  },
  {
   "cell_type": "code",
   "execution_count": 303,
   "metadata": {},
   "outputs": [],
   "source": [
    "#Splitting data into independent and target variables.\n",
    "x= df.drop(['co2data','geo'], axis=1)\n",
    "y=df['co2data']"
   ]
  },
  {
   "cell_type": "code",
   "execution_count": 304,
   "metadata": {},
   "outputs": [
    {
     "data": {
      "text/plain": [
       "Index(['elecdata', 'incdata', 'inddata', 'forest', 'co2emdata'], dtype='object')"
      ]
     },
     "execution_count": 304,
     "metadata": {},
     "output_type": "execute_result"
    }
   ],
   "source": [
    "#Scaling the features.\n",
    "from sklearn.preprocessing import scale\n",
    "\n",
    "cols = x.columns\n",
    "x = pd.DataFrame(scale(x))\n",
    "x.columns = cols\n",
    "x.columns"
   ]
  },
  {
   "cell_type": "code",
   "execution_count": 305,
   "metadata": {},
   "outputs": [],
   "source": [
    "#Splitting into testing and training datasets for model building.\n",
    "from sklearn.model_selection import train_test_split\n",
    "X_train, X_test, y_train, y_test = train_test_split(x, y, train_size=0.7, test_size = 0.3, random_state=100)"
   ]
  },
  {
   "cell_type": "markdown",
   "metadata": {},
   "source": [
    "<b> Model Building </b>"
   ]
  },
  {
   "cell_type": "markdown",
   "metadata": {},
   "source": [
    "<b> Ridge Regression </b>"
   ]
  },
  {
   "cell_type": "code",
   "execution_count": 306,
   "metadata": {},
   "outputs": [
    {
     "name": "stdout",
     "output_type": "stream",
     "text": [
      "Fitting 5 folds for each of 28 candidates, totalling 140 fits\n"
     ]
    },
    {
     "name": "stderr",
     "output_type": "stream",
     "text": [
      "[Parallel(n_jobs=1)]: Using backend SequentialBackend with 1 concurrent workers.\n",
      "[Parallel(n_jobs=1)]: Done 140 out of 140 | elapsed:    0.4s finished\n"
     ]
    },
    {
     "data": {
      "text/plain": [
       "GridSearchCV(cv=5, error_score=nan,\n",
       "             estimator=Ridge(alpha=1.0, copy_X=True, fit_intercept=True,\n",
       "                             max_iter=None, normalize=False, random_state=None,\n",
       "                             solver='auto', tol=0.001),\n",
       "             iid='deprecated', n_jobs=None,\n",
       "             param_grid={'alpha': [0.0001, 0.001, 0.01, 0.05, 0.1, 0.2, 0.3,\n",
       "                                   0.4, 0.5, 0.6, 0.7, 0.8, 0.9, 1.0, 2.0, 3.0,\n",
       "                                   4.0, 5.0, 6.0, 7.0, 8.0, 9.0, 10.0, 20, 50,\n",
       "                                   100, 500, 1000]},\n",
       "             pre_dispatch='2*n_jobs', refit=True, return_train_score=True,\n",
       "             scoring='neg_mean_absolute_error', verbose=1)"
      ]
     },
     "execution_count": 306,
     "metadata": {},
     "output_type": "execute_result"
    }
   ],
   "source": [
    "params = {'alpha': [0.0001, 0.001, 0.01, 0.05, 0.1, \n",
    " 0.2, 0.3, 0.4, 0.5, 0.6, 0.7, 0.8, 0.9, 1.0, 2.0, 3.0, \n",
    " 4.0, 5.0, 6.0, 7.0, 8.0, 9.0, 10.0, 20, 50, 100, 500, 1000 ]}\n",
    "\n",
    "\n",
    "ridge = Ridge()\n",
    "\n",
    "#Cross Validation.\n",
    "folds = 5\n",
    "model_cv = GridSearchCV(estimator = ridge, param_grid = params, scoring= 'neg_mean_absolute_error', cv = folds, return_train_score=True,verbose = 1)            \n",
    "model_cv.fit(X_train, y_train) "
   ]
  },
  {
   "cell_type": "code",
   "execution_count": 307,
   "metadata": {},
   "outputs": [
    {
     "data": {
      "text/html": [
       "<div>\n",
       "<style scoped>\n",
       "    .dataframe tbody tr th:only-of-type {\n",
       "        vertical-align: middle;\n",
       "    }\n",
       "\n",
       "    .dataframe tbody tr th {\n",
       "        vertical-align: top;\n",
       "    }\n",
       "\n",
       "    .dataframe thead th {\n",
       "        text-align: right;\n",
       "    }\n",
       "</style>\n",
       "<table border=\"1\" class=\"dataframe\">\n",
       "  <thead>\n",
       "    <tr style=\"text-align: right;\">\n",
       "      <th></th>\n",
       "      <th>mean_fit_time</th>\n",
       "      <th>std_fit_time</th>\n",
       "      <th>mean_score_time</th>\n",
       "      <th>std_score_time</th>\n",
       "      <th>param_alpha</th>\n",
       "      <th>params</th>\n",
       "      <th>split0_test_score</th>\n",
       "      <th>split1_test_score</th>\n",
       "      <th>split2_test_score</th>\n",
       "      <th>split3_test_score</th>\n",
       "      <th>...</th>\n",
       "      <th>mean_test_score</th>\n",
       "      <th>std_test_score</th>\n",
       "      <th>rank_test_score</th>\n",
       "      <th>split0_train_score</th>\n",
       "      <th>split1_train_score</th>\n",
       "      <th>split2_train_score</th>\n",
       "      <th>split3_train_score</th>\n",
       "      <th>split4_train_score</th>\n",
       "      <th>mean_train_score</th>\n",
       "      <th>std_train_score</th>\n",
       "    </tr>\n",
       "  </thead>\n",
       "  <tbody>\n",
       "    <tr>\n",
       "      <th>0</th>\n",
       "      <td>0.002343</td>\n",
       "      <td>0.000781</td>\n",
       "      <td>0.000780</td>\n",
       "      <td>0.000390</td>\n",
       "      <td>0.0001</td>\n",
       "      <td>{'alpha': 0.0001}</td>\n",
       "      <td>-0.251858</td>\n",
       "      <td>-0.405570</td>\n",
       "      <td>-0.391999</td>\n",
       "      <td>-0.475572</td>\n",
       "      <td>...</td>\n",
       "      <td>-0.363844</td>\n",
       "      <td>0.080504</td>\n",
       "      <td>24</td>\n",
       "      <td>-0.330066</td>\n",
       "      <td>-0.305127</td>\n",
       "      <td>-0.302497</td>\n",
       "      <td>-0.270304</td>\n",
       "      <td>-0.308846</td>\n",
       "      <td>-0.303368</td>\n",
       "      <td>0.019183</td>\n",
       "    </tr>\n",
       "    <tr>\n",
       "      <th>1</th>\n",
       "      <td>0.001757</td>\n",
       "      <td>0.000390</td>\n",
       "      <td>0.000781</td>\n",
       "      <td>0.000390</td>\n",
       "      <td>0.001</td>\n",
       "      <td>{'alpha': 0.001}</td>\n",
       "      <td>-0.251599</td>\n",
       "      <td>-0.405014</td>\n",
       "      <td>-0.391708</td>\n",
       "      <td>-0.475483</td>\n",
       "      <td>...</td>\n",
       "      <td>-0.363614</td>\n",
       "      <td>0.080466</td>\n",
       "      <td>23</td>\n",
       "      <td>-0.330030</td>\n",
       "      <td>-0.305059</td>\n",
       "      <td>-0.302477</td>\n",
       "      <td>-0.270305</td>\n",
       "      <td>-0.308801</td>\n",
       "      <td>-0.303334</td>\n",
       "      <td>0.019169</td>\n",
       "    </tr>\n",
       "    <tr>\n",
       "      <th>2</th>\n",
       "      <td>0.001374</td>\n",
       "      <td>0.000471</td>\n",
       "      <td>0.000584</td>\n",
       "      <td>0.000477</td>\n",
       "      <td>0.01</td>\n",
       "      <td>{'alpha': 0.01}</td>\n",
       "      <td>-0.249110</td>\n",
       "      <td>-0.399730</td>\n",
       "      <td>-0.388920</td>\n",
       "      <td>-0.474650</td>\n",
       "      <td>...</td>\n",
       "      <td>-0.361424</td>\n",
       "      <td>0.080136</td>\n",
       "      <td>22</td>\n",
       "      <td>-0.329688</td>\n",
       "      <td>-0.304410</td>\n",
       "      <td>-0.302292</td>\n",
       "      <td>-0.270308</td>\n",
       "      <td>-0.308365</td>\n",
       "      <td>-0.303013</td>\n",
       "      <td>0.019038</td>\n",
       "    </tr>\n",
       "    <tr>\n",
       "      <th>3</th>\n",
       "      <td>0.001170</td>\n",
       "      <td>0.000389</td>\n",
       "      <td>0.000782</td>\n",
       "      <td>0.000391</td>\n",
       "      <td>0.05</td>\n",
       "      <td>{'alpha': 0.05}</td>\n",
       "      <td>-0.242654</td>\n",
       "      <td>-0.381077</td>\n",
       "      <td>-0.378743</td>\n",
       "      <td>-0.471852</td>\n",
       "      <td>...</td>\n",
       "      <td>-0.354135</td>\n",
       "      <td>0.078684</td>\n",
       "      <td>21</td>\n",
       "      <td>-0.328408</td>\n",
       "      <td>-0.302272</td>\n",
       "      <td>-0.303305</td>\n",
       "      <td>-0.270316</td>\n",
       "      <td>-0.306753</td>\n",
       "      <td>-0.302211</td>\n",
       "      <td>0.018576</td>\n",
       "    </tr>\n",
       "    <tr>\n",
       "      <th>4</th>\n",
       "      <td>0.001360</td>\n",
       "      <td>0.000484</td>\n",
       "      <td>0.000596</td>\n",
       "      <td>0.000487</td>\n",
       "      <td>0.1</td>\n",
       "      <td>{'alpha': 0.1}</td>\n",
       "      <td>-0.239261</td>\n",
       "      <td>-0.365032</td>\n",
       "      <td>-0.369520</td>\n",
       "      <td>-0.469623</td>\n",
       "      <td>...</td>\n",
       "      <td>-0.348263</td>\n",
       "      <td>0.077307</td>\n",
       "      <td>19</td>\n",
       "      <td>-0.327206</td>\n",
       "      <td>-0.302169</td>\n",
       "      <td>-0.304531</td>\n",
       "      <td>-0.270316</td>\n",
       "      <td>-0.305275</td>\n",
       "      <td>-0.301899</td>\n",
       "      <td>0.018201</td>\n",
       "    </tr>\n",
       "  </tbody>\n",
       "</table>\n",
       "<p>5 rows × 21 columns</p>\n",
       "</div>"
      ],
      "text/plain": [
       "   mean_fit_time  std_fit_time  mean_score_time  std_score_time param_alpha  \\\n",
       "0       0.002343      0.000781         0.000780        0.000390      0.0001   \n",
       "1       0.001757      0.000390         0.000781        0.000390       0.001   \n",
       "2       0.001374      0.000471         0.000584        0.000477        0.01   \n",
       "3       0.001170      0.000389         0.000782        0.000391        0.05   \n",
       "4       0.001360      0.000484         0.000596        0.000487         0.1   \n",
       "\n",
       "              params  split0_test_score  split1_test_score  split2_test_score  \\\n",
       "0  {'alpha': 0.0001}          -0.251858          -0.405570          -0.391999   \n",
       "1   {'alpha': 0.001}          -0.251599          -0.405014          -0.391708   \n",
       "2    {'alpha': 0.01}          -0.249110          -0.399730          -0.388920   \n",
       "3    {'alpha': 0.05}          -0.242654          -0.381077          -0.378743   \n",
       "4     {'alpha': 0.1}          -0.239261          -0.365032          -0.369520   \n",
       "\n",
       "   split3_test_score  ...  mean_test_score  std_test_score  rank_test_score  \\\n",
       "0          -0.475572  ...        -0.363844        0.080504               24   \n",
       "1          -0.475483  ...        -0.363614        0.080466               23   \n",
       "2          -0.474650  ...        -0.361424        0.080136               22   \n",
       "3          -0.471852  ...        -0.354135        0.078684               21   \n",
       "4          -0.469623  ...        -0.348263        0.077307               19   \n",
       "\n",
       "   split0_train_score  split1_train_score  split2_train_score  \\\n",
       "0           -0.330066           -0.305127           -0.302497   \n",
       "1           -0.330030           -0.305059           -0.302477   \n",
       "2           -0.329688           -0.304410           -0.302292   \n",
       "3           -0.328408           -0.302272           -0.303305   \n",
       "4           -0.327206           -0.302169           -0.304531   \n",
       "\n",
       "   split3_train_score  split4_train_score  mean_train_score  std_train_score  \n",
       "0           -0.270304           -0.308846         -0.303368         0.019183  \n",
       "1           -0.270305           -0.308801         -0.303334         0.019169  \n",
       "2           -0.270308           -0.308365         -0.303013         0.019038  \n",
       "3           -0.270316           -0.306753         -0.302211         0.018576  \n",
       "4           -0.270316           -0.305275         -0.301899         0.018201  \n",
       "\n",
       "[5 rows x 21 columns]"
      ]
     },
     "execution_count": 307,
     "metadata": {},
     "output_type": "execute_result"
    }
   ],
   "source": [
    "cv_results = pd.DataFrame(model_cv.cv_results_)\n",
    "cv_results = cv_results[cv_results['param_alpha']<=200]\n",
    "cv_results.head()"
   ]
  },
  {
   "cell_type": "code",
   "execution_count": 308,
   "metadata": {},
   "outputs": [
    {
     "data": {
      "image/png": "[encoded data removed]",
      "text/plain": [
       "<Figure size 432x288 with 1 Axes>"
      ]
     },
     "metadata": {
      "needs_background": "light"
     },
     "output_type": "display_data"
    }
   ],
   "source": [
    "#Plotting mean test and train scoes with α. \n",
    "cv_results['param_alpha'] = cv_results['param_alpha'].astype('int32')\n",
    "\n",
    "#Plotting plots.\n",
    "plt.plot(cv_results['param_alpha'], cv_results['mean_train_score'], color='Skyblue')\n",
    "plt.plot(cv_results['param_alpha'], cv_results['mean_test_score'], color='Magenta')\n",
    "plt.xlabel('alpha')\n",
    "plt.ylabel('Negative Mean Absolute Error')\n",
    "plt.title(\"Negative Mean Absolute Error and α\")\n",
    "plt.legend(['train score', 'test score'], loc='upper left')\n",
    "\n",
    "#returning plots.\n",
    "plt.show()"
   ]
  },
  {
   "cell_type": "code",
   "execution_count": 309,
   "metadata": {},
   "outputs": [
    {
     "data": {
      "text/plain": [
       "array([ 0.03360434,  0.42080713, -0.02150882,  0.03776947,  0.09017913])"
      ]
     },
     "execution_count": 309,
     "metadata": {},
     "output_type": "execute_result"
    }
   ],
   "source": [
    "alpha = 8\n",
    "ridge = Ridge(alpha=alpha)\n",
    "\n",
    "ridge.fit(X_train, y_train)\n",
    "ridge.coef_"
   ]
  },
  {
   "cell_type": "markdown",
   "metadata": {},
   "source": [
    "<b> Lasso Regression </b>"
   ]
  },
  {
   "cell_type": "code",
   "execution_count": 310,
   "metadata": {},
   "outputs": [
    {
     "name": "stdout",
     "output_type": "stream",
     "text": [
      "Fitting 5 folds for each of 28 candidates, totalling 140 fits\n"
     ]
    },
    {
     "name": "stderr",
     "output_type": "stream",
     "text": [
      "[Parallel(n_jobs=1)]: Using backend SequentialBackend with 1 concurrent workers.\n",
      "[Parallel(n_jobs=1)]: Done 140 out of 140 | elapsed:    0.3s finished\n"
     ]
    },
    {
     "data": {
      "text/plain": [
       "GridSearchCV(cv=5, error_score=nan,\n",
       "             estimator=Lasso(alpha=1.0, copy_X=True, fit_intercept=True,\n",
       "                             max_iter=1000, normalize=False, positive=False,\n",
       "                             precompute=False, random_state=None,\n",
       "                             selection='cyclic', tol=0.0001, warm_start=False),\n",
       "             iid='deprecated', n_jobs=None,\n",
       "             param_grid={'alpha': [0.0001, 0.001, 0.01, 0.05, 0.1, 0.2, 0.3,\n",
       "                                   0.4, 0.5, 0.6, 0.7, 0.8, 0.9, 1.0, 2.0, 3.0,\n",
       "                                   4.0, 5.0, 6.0, 7.0, 8.0, 9.0, 10.0, 20, 50,\n",
       "                                   100, 500, 1000]},\n",
       "             pre_dispatch='2*n_jobs', refit=True, return_train_score=True,\n",
       "             scoring='neg_mean_absolute_error', verbose=1)"
      ]
     },
     "execution_count": 310,
     "metadata": {},
     "output_type": "execute_result"
    }
   ],
   "source": [
    "lasso = Lasso()\n",
    "\n",
    "#Cross Validation.\n",
    "model_cv = GridSearchCV(estimator = lasso, param_grid = params, scoring= 'neg_mean_absolute_error', cv = folds, return_train_score=True, verbose = 1)            \n",
    "\n",
    "#Fitting the model.\n",
    "model_cv.fit(X_train, y_train) "
   ]
  },
  {
   "cell_type": "code",
   "execution_count": 311,
   "metadata": {},
   "outputs": [
    {
     "data": {
      "text/html": [
       "<div>\n",
       "<style scoped>\n",
       "    .dataframe tbody tr th:only-of-type {\n",
       "        vertical-align: middle;\n",
       "    }\n",
       "\n",
       "    .dataframe tbody tr th {\n",
       "        vertical-align: top;\n",
       "    }\n",
       "\n",
       "    .dataframe thead th {\n",
       "        text-align: right;\n",
       "    }\n",
       "</style>\n",
       "<table border=\"1\" class=\"dataframe\">\n",
       "  <thead>\n",
       "    <tr style=\"text-align: right;\">\n",
       "      <th></th>\n",
       "      <th>mean_fit_time</th>\n",
       "      <th>std_fit_time</th>\n",
       "      <th>mean_score_time</th>\n",
       "      <th>std_score_time</th>\n",
       "      <th>param_alpha</th>\n",
       "      <th>params</th>\n",
       "      <th>split0_test_score</th>\n",
       "      <th>split1_test_score</th>\n",
       "      <th>split2_test_score</th>\n",
       "      <th>split3_test_score</th>\n",
       "      <th>...</th>\n",
       "      <th>mean_test_score</th>\n",
       "      <th>std_test_score</th>\n",
       "      <th>rank_test_score</th>\n",
       "      <th>split0_train_score</th>\n",
       "      <th>split1_train_score</th>\n",
       "      <th>split2_train_score</th>\n",
       "      <th>split3_train_score</th>\n",
       "      <th>split4_train_score</th>\n",
       "      <th>mean_train_score</th>\n",
       "      <th>std_train_score</th>\n",
       "    </tr>\n",
       "  </thead>\n",
       "  <tbody>\n",
       "    <tr>\n",
       "      <th>0</th>\n",
       "      <td>0.002335</td>\n",
       "      <td>0.000470</td>\n",
       "      <td>0.000976</td>\n",
       "      <td>0.000617</td>\n",
       "      <td>0.0001</td>\n",
       "      <td>{'alpha': 0.0001}</td>\n",
       "      <td>-0.251459</td>\n",
       "      <td>-0.404985</td>\n",
       "      <td>-0.391489</td>\n",
       "      <td>-0.474728</td>\n",
       "      <td>...</td>\n",
       "      <td>-0.363397</td>\n",
       "      <td>0.080268</td>\n",
       "      <td>6</td>\n",
       "      <td>-0.329979</td>\n",
       "      <td>-0.305035</td>\n",
       "      <td>-0.302473</td>\n",
       "      <td>-0.270290</td>\n",
       "      <td>-0.308748</td>\n",
       "      <td>-0.303305</td>\n",
       "      <td>0.019156</td>\n",
       "    </tr>\n",
       "    <tr>\n",
       "      <th>1</th>\n",
       "      <td>0.001764</td>\n",
       "      <td>0.000395</td>\n",
       "      <td>0.000773</td>\n",
       "      <td>0.000387</td>\n",
       "      <td>0.001</td>\n",
       "      <td>{'alpha': 0.001}</td>\n",
       "      <td>-0.247614</td>\n",
       "      <td>-0.399165</td>\n",
       "      <td>-0.386606</td>\n",
       "      <td>-0.467046</td>\n",
       "      <td>...</td>\n",
       "      <td>-0.359141</td>\n",
       "      <td>0.078124</td>\n",
       "      <td>4</td>\n",
       "      <td>-0.329158</td>\n",
       "      <td>-0.304140</td>\n",
       "      <td>-0.302386</td>\n",
       "      <td>-0.270158</td>\n",
       "      <td>-0.307820</td>\n",
       "      <td>-0.302732</td>\n",
       "      <td>0.018907</td>\n",
       "    </tr>\n",
       "    <tr>\n",
       "      <th>2</th>\n",
       "      <td>0.001757</td>\n",
       "      <td>0.000391</td>\n",
       "      <td>0.000584</td>\n",
       "      <td>0.000477</td>\n",
       "      <td>0.01</td>\n",
       "      <td>{'alpha': 0.01}</td>\n",
       "      <td>-0.231661</td>\n",
       "      <td>-0.341344</td>\n",
       "      <td>-0.340337</td>\n",
       "      <td>-0.458924</td>\n",
       "      <td>...</td>\n",
       "      <td>-0.336279</td>\n",
       "      <td>0.073165</td>\n",
       "      <td>3</td>\n",
       "      <td>-0.322114</td>\n",
       "      <td>-0.301205</td>\n",
       "      <td>-0.307525</td>\n",
       "      <td>-0.268330</td>\n",
       "      <td>-0.300067</td>\n",
       "      <td>-0.299848</td>\n",
       "      <td>0.017607</td>\n",
       "    </tr>\n",
       "    <tr>\n",
       "      <th>3</th>\n",
       "      <td>0.001561</td>\n",
       "      <td>0.000479</td>\n",
       "      <td>0.000585</td>\n",
       "      <td>0.000478</td>\n",
       "      <td>0.05</td>\n",
       "      <td>{'alpha': 0.05}</td>\n",
       "      <td>-0.241387</td>\n",
       "      <td>-0.302189</td>\n",
       "      <td>-0.309407</td>\n",
       "      <td>-0.466706</td>\n",
       "      <td>...</td>\n",
       "      <td>-0.324689</td>\n",
       "      <td>0.075214</td>\n",
       "      <td>1</td>\n",
       "      <td>-0.330037</td>\n",
       "      <td>-0.311187</td>\n",
       "      <td>-0.310500</td>\n",
       "      <td>-0.269744</td>\n",
       "      <td>-0.302656</td>\n",
       "      <td>-0.304825</td>\n",
       "      <td>0.019716</td>\n",
       "    </tr>\n",
       "    <tr>\n",
       "      <th>4</th>\n",
       "      <td>0.001172</td>\n",
       "      <td>0.000390</td>\n",
       "      <td>0.000781</td>\n",
       "      <td>0.000390</td>\n",
       "      <td>0.1</td>\n",
       "      <td>{'alpha': 0.1}</td>\n",
       "      <td>-0.263359</td>\n",
       "      <td>-0.300385</td>\n",
       "      <td>-0.302997</td>\n",
       "      <td>-0.486164</td>\n",
       "      <td>...</td>\n",
       "      <td>-0.332630</td>\n",
       "      <td>0.078473</td>\n",
       "      <td>2</td>\n",
       "      <td>-0.338269</td>\n",
       "      <td>-0.321303</td>\n",
       "      <td>-0.321160</td>\n",
       "      <td>-0.283199</td>\n",
       "      <td>-0.315730</td>\n",
       "      <td>-0.315932</td>\n",
       "      <td>0.018037</td>\n",
       "    </tr>\n",
       "  </tbody>\n",
       "</table>\n",
       "<p>5 rows × 21 columns</p>\n",
       "</div>"
      ],
      "text/plain": [
       "   mean_fit_time  std_fit_time  mean_score_time  std_score_time param_alpha  \\\n",
       "0       0.002335      0.000470         0.000976        0.000617      0.0001   \n",
       "1       0.001764      0.000395         0.000773        0.000387       0.001   \n",
       "2       0.001757      0.000391         0.000584        0.000477        0.01   \n",
       "3       0.001561      0.000479         0.000585        0.000478        0.05   \n",
       "4       0.001172      0.000390         0.000781        0.000390         0.1   \n",
       "\n",
       "              params  split0_test_score  split1_test_score  split2_test_score  \\\n",
       "0  {'alpha': 0.0001}          -0.251459          -0.404985          -0.391489   \n",
       "1   {'alpha': 0.001}          -0.247614          -0.399165          -0.386606   \n",
       "2    {'alpha': 0.01}          -0.231661          -0.341344          -0.340337   \n",
       "3    {'alpha': 0.05}          -0.241387          -0.302189          -0.309407   \n",
       "4     {'alpha': 0.1}          -0.263359          -0.300385          -0.302997   \n",
       "\n",
       "   split3_test_score  ...  mean_test_score  std_test_score  rank_test_score  \\\n",
       "0          -0.474728  ...        -0.363397        0.080268                6   \n",
       "1          -0.467046  ...        -0.359141        0.078124                4   \n",
       "2          -0.458924  ...        -0.336279        0.073165                3   \n",
       "3          -0.466706  ...        -0.324689        0.075214                1   \n",
       "4          -0.486164  ...        -0.332630        0.078473                2   \n",
       "\n",
       "   split0_train_score  split1_train_score  split2_train_score  \\\n",
       "0           -0.329979           -0.305035           -0.302473   \n",
       "1           -0.329158           -0.304140           -0.302386   \n",
       "2           -0.322114           -0.301205           -0.307525   \n",
       "3           -0.330037           -0.311187           -0.310500   \n",
       "4           -0.338269           -0.321303           -0.321160   \n",
       "\n",
       "   split3_train_score  split4_train_score  mean_train_score  std_train_score  \n",
       "0           -0.270290           -0.308748         -0.303305         0.019156  \n",
       "1           -0.270158           -0.307820         -0.302732         0.018907  \n",
       "2           -0.268330           -0.300067         -0.299848         0.017607  \n",
       "3           -0.269744           -0.302656         -0.304825         0.019716  \n",
       "4           -0.283199           -0.315730         -0.315932         0.018037  \n",
       "\n",
       "[5 rows x 21 columns]"
      ]
     },
     "execution_count": 311,
     "metadata": {},
     "output_type": "execute_result"
    }
   ],
   "source": [
    "cv_results = pd.DataFrame(model_cv.cv_results_)\n",
    "cv_results.head()"
   ]
  },
  {
   "cell_type": "code",
   "execution_count": 312,
   "metadata": {},
   "outputs": [
    {
     "data": {
      "image/png": "[encoded data removed]",
      "text/plain": [
       "<Figure size 432x288 with 1 Axes>"
      ]
     },
     "metadata": {
      "needs_background": "light"
     },
     "output_type": "display_data"
    }
   ],
   "source": [
    "cv_results['param_alpha'] = cv_results['param_alpha'].astype('float32')\n",
    "\n",
    "#Plotting plots.\n",
    "plt.plot(cv_results['param_alpha'], cv_results['mean_train_score'], color='Skyblue')\n",
    "plt.plot(cv_results['param_alpha'], cv_results['mean_test_score'], color='Blue')\n",
    "plt.xlabel('alpha')\n",
    "plt.ylabel('Negative Mean Absolute Error')\n",
    "\n",
    "plt.title(\"Negative Mean Absolute Error and α\")\n",
    "plt.legend(['train score', 'test score'], loc='upper left')\n",
    "\n",
    "#Returning the plots.\n",
    "plt.show()"
   ]
  },
  {
   "cell_type": "code",
   "execution_count": 313,
   "metadata": {},
   "outputs": [
    {
     "data": {
      "text/plain": [
       "Lasso(alpha=10, copy_X=True, fit_intercept=True, max_iter=1000, normalize=False,\n",
       "      positive=False, precompute=False, random_state=None, selection='cyclic',\n",
       "      tol=0.0001, warm_start=False)"
      ]
     },
     "execution_count": 313,
     "metadata": {},
     "output_type": "execute_result"
    }
   ],
   "source": [
    "alpha =10\n",
    "\n",
    "lasso = Lasso(alpha=alpha)\n",
    "        \n",
    "lasso.fit(X_train, y_train) "
   ]
  },
  {
   "cell_type": "code",
   "execution_count": 314,
   "metadata": {},
   "outputs": [
    {
     "name": "stdout",
     "output_type": "stream",
     "text": [
      "The variables: 'elecdata', 'incdata', 'inddata', 'forest', 'co2emdata' contributed the most\n"
     ]
    }
   ],
   "source": [
    "print(\"The variables: 'elecdata', 'incdata', 'inddata', 'forest', 'co2emdata' contributed the most\")"
   ]
  },
  {
   "cell_type": "code",
   "execution_count": null,
   "metadata": {},
   "outputs": [],
   "source": []
  }
 ],
 "metadata": {
  "kernelspec": {
   "display_name": "Python 3",
   "language": "python",
   "name": "python3"
  },
  "language_info": {
   "codemirror_mode": {
    "name": "ipython",
    "version": 3
   },
   "file_extension": ".py",
   "mimetype": "text/x-python",
   "name": "python",
   "nbconvert_exporter": "python",
   "pygments_lexer": "ipython3",
   "version": "3.7.6"
  }
 },
 "nbformat": 4,
 "nbformat_minor": 4
}
