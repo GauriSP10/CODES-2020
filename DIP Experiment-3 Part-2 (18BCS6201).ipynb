{
 "cells": [
  {
   "cell_type": "code",
   "execution_count": 6,
   "metadata": {},
   "outputs": [
    {
     "data": {
      "text/plain": [
       "<function destroyAllWindows>"
      ]
     },
     "execution_count": 6,
     "metadata": {},
     "output_type": "execute_result"
    }
   ],
   "source": [
    "#Importing necessary modules.\n",
    "import numpy as np\n",
    "import cv2 as cv2\n",
    "\n",
    "#Reading the Image.\n",
    "img = cv2.imread('PrisonBreak.jpg', cv2.IMREAD_COLOR)\n",
    "\n",
    "#Drawing a line on the Image.\n",
    "cv2.line(img,(0,0), (150,150), (255,255,255), 5)\n",
    "\n",
    "#Displaying the Image.\n",
    "cv2.imshow('Window', img)\n",
    "cv2.waitKey(0)\n",
    "cv2.destroyAllWindows\n"
   ]
  },
  {
   "cell_type": "code",
   "execution_count": 7,
   "metadata": {},
   "outputs": [
    {
     "data": {
      "text/plain": [
       "<function destroyAllWindows>"
      ]
     },
     "execution_count": 7,
     "metadata": {},
     "output_type": "execute_result"
    }
   ],
   "source": [
    "#Importing necessary modules.\n",
    "import numpy as np\n",
    "import cv2 as cv2\n",
    "\n",
    "#Reading the Image.\n",
    "img = cv2.imread('PrisonBreak.jpg', cv2.IMREAD_COLOR)\n",
    "\n",
    "#Drawing a line on the Image.\n",
    "cv2.line(img,(0,0), (150,150), (255,255,255), 5)\n",
    "\n",
    "#Drawing a rectangle on the Image.\n",
    "cv2.rectangle(img, (12,35), (200,150), (0,0,255), 5)\n",
    "\n",
    "#Drawing a circle on the Image.\n",
    "cv2.circle(img, (120,60), 35, (0,214,0), -5)\n",
    "\n",
    "#Locating a bunch of points in polygon, datatype np int32\n",
    "pts = np.array([[10,5], [20,30], [70,20], [110,40]], np.int32)\n",
    "pts = pts.reshape((-1,1,2))\n",
    "cv2.polylines(img,(pts), True, (155,0,0), 3)\n",
    "\n",
    "#Writing on an Image.\n",
    "font = cv2.FONT_HERSHEY_SIMPLEX\n",
    "cv2.putText(img, 'Myself Gauri!',(10,130), font, 0.6, (120,12,112), 1, cv2.LINE_AA)\n",
    "\n",
    "#Displaying the Image.\n",
    "cv2.imshow('Window', img)\n",
    "cv2.waitKey(0)\n",
    "cv2.destroyAllWindows"
   ]
  },
  {
   "cell_type": "code",
   "execution_count": 8,
   "metadata": {},
   "outputs": [
    {
     "name": "stdout",
     "output_type": "stream",
     "text": [
      "[108 130 105]\n"
     ]
    }
   ],
   "source": [
    "#Importing necessary modules.\n",
    "import numpy as np\n",
    "import cv2 as cv2\n",
    "\n",
    "#Reading the Image.\n",
    "img = cv2.imread('PrisonBreak.jpg', cv2.IMREAD_COLOR)\n",
    "\n",
    "#Referring a specific pixel.\n",
    "px = img[55,55]\n",
    "print(px)"
   ]
  },
  {
   "cell_type": "code",
   "execution_count": 9,
   "metadata": {},
   "outputs": [
    {
     "name": "stdout",
     "output_type": "stream",
     "text": [
      "[120 100 215]\n"
     ]
    }
   ],
   "source": [
    "#Importing necessary modules.\n",
    "import numpy as np\n",
    "import cv2 as cv2\n",
    "\n",
    "#Reading the Image.\n",
    "img = cv2.imread('PrisonBreak.jpg', cv2.IMREAD_COLOR)\n",
    "\n",
    "#Referring to a specific pixel.\n",
    "px = img[55,55]\n",
    "\n",
    "#Modifying that pixel.\n",
    "img[55,55]= [120,100,215]\n",
    "print(px)\n"
   ]
  },
  {
   "cell_type": "code",
   "execution_count": 10,
   "metadata": {},
   "outputs": [
    {
     "name": "stdout",
     "output_type": "stream",
     "text": [
      "[[[118 146 123]\n",
      "  [120 146 123]\n",
      "  [120 146 122]\n",
      "  ...\n",
      "  [127 161 150]\n",
      "  [129 161 150]\n",
      "  [130 162 151]]\n",
      "\n",
      " [[124 152 129]\n",
      "  [122 148 125]\n",
      "  [117 143 119]\n",
      "  ...\n",
      "  [130 164 153]\n",
      "  [130 164 153]\n",
      "  [131 165 154]]\n",
      "\n",
      " [[129 157 134]\n",
      "  [125 151 128]\n",
      "  [118 144 120]\n",
      "  ...\n",
      "  [133 167 156]\n",
      "  [134 168 157]\n",
      "  [135 169 158]]\n",
      "\n",
      " ...\n",
      "\n",
      " [[143 179 167]\n",
      "  [142 178 166]\n",
      "  [141 177 163]\n",
      "  ...\n",
      "  [137 171 154]\n",
      "  [136 170 153]\n",
      "  [133 167 150]]\n",
      "\n",
      " [[141 177 165]\n",
      "  [141 177 165]\n",
      "  [140 176 162]\n",
      "  ...\n",
      "  [141 173 156]\n",
      "  [139 171 154]\n",
      "  [136 168 151]]\n",
      "\n",
      " [[139 175 163]\n",
      "  [139 175 163]\n",
      "  [139 175 161]\n",
      "  ...\n",
      "  [142 174 157]\n",
      "  [143 173 154]\n",
      "  [140 170 151]]]\n"
     ]
    }
   ],
   "source": [
    "#Importing necessary modules.\n",
    "import numpy as np\n",
    "import cv2 as cv2\n",
    "\n",
    "#Reading the Image.\n",
    "img = cv2.imread('PrisonBreak.jpg', cv2.IMREAD_COLOR)\n",
    "\n",
    "#Referring to a specific pixel.\n",
    "px = img[55,55]\n",
    "\n",
    "#Modifying that pixel.\n",
    "img[55,55]= [255,255,255]\n",
    "\n",
    "#Referring a region of the Image.\n",
    "roi=img[100:120, 100:150]\n",
    "print(roi)"
   ]
  },
  {
   "cell_type": "code",
   "execution_count": 11,
   "metadata": {},
   "outputs": [
    {
     "data": {
      "text/plain": [
       "<function destroyAllWindows>"
      ]
     },
     "execution_count": 11,
     "metadata": {},
     "output_type": "execute_result"
    }
   ],
   "source": [
    "#Importing necessary modules.\n",
    "import numpy as np\n",
    "import cv2 as cv2\n",
    "\n",
    "#Reading the Image.\n",
    "img = cv2.imread('PrisonBreak.jpg', cv2.IMREAD_COLOR)\n",
    "\n",
    "#Referring to a specific pixel.\n",
    "px = img[55,55]\n",
    "\n",
    "#Modifying that pixel.\n",
    "img[55,55]= [255,255,255]\n",
    "\n",
    "#Referring a region of the Image.\n",
    "img[100:220, 120:250] = [155,247,157]\n",
    "\n",
    "#Displaying the Image.\n",
    "cv2.imshow('Window', img)\n",
    "cv2.waitKey(0)\n",
    "cv2.destroyAllWindows"
   ]
  },
  {
   "cell_type": "code",
   "execution_count": 12,
   "metadata": {},
   "outputs": [
    {
     "data": {
      "text/plain": [
       "<function destroyAllWindows>"
      ]
     },
     "execution_count": 12,
     "metadata": {},
     "output_type": "execute_result"
    }
   ],
   "source": [
    "#Importing necessary modules.\n",
    "import numpy as np\n",
    "import cv2 as cv2\n",
    "\n",
    "#Reading the Image.\n",
    "img = cv2.imread('PrisonBreak.jpg', cv2.IMREAD_COLOR)\n",
    "\n",
    "#Referring to a specific pixel.\n",
    "px = img[55,55]\n",
    "\n",
    "#Modifying that pixel\n",
    "img[55,55]= [255,255,255]\n",
    "\n",
    "#Referring a region of the Image.\n",
    "img[100:220, 120:250] = [155,247,157]\n",
    "\n",
    "#Copying and pasting the Image.\n",
    "prison_break = img[137:211, 209:294]\n",
    "img[137:211, 209:294] = prison_break\n",
    "\n",
    "#Displaying the Image.\n",
    "cv2.imshow('Window', img)\n",
    "cv2.waitKey(0)\n",
    "cv2.destroyAllWindows"
   ]
  },
  {
   "cell_type": "code",
   "execution_count": null,
   "metadata": {},
   "outputs": [],
   "source": []
  },
  {
   "cell_type": "code",
   "execution_count": null,
   "metadata": {},
   "outputs": [],
   "source": []
  }
 ],
 "metadata": {
  "kernelspec": {
   "display_name": "Python 3",
   "language": "python",
   "name": "python3"
  },
  "language_info": {
   "codemirror_mode": {
    "name": "ipython",
    "version": 3
   },
   "file_extension": ".py",
   "mimetype": "text/x-python",
   "name": "python",
   "nbconvert_exporter": "python",
   "pygments_lexer": "ipython3",
   "version": "3.7.6"
  }
 },
 "nbformat": 4,
 "nbformat_minor": 4
}
