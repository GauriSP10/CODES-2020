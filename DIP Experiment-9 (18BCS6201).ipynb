{
 "cells": [
  {
   "cell_type": "markdown",
   "metadata": {},
   "source": [
    "<b>  Intensity transformation in SD </b>"
   ]
  },
  {
   "cell_type": "markdown",
   "metadata": {},
   "source": [
    "<b> Liner Transformation in SD </b>"
   ]
  },
  {
   "cell_type": "markdown",
   "metadata": {},
   "source": [
    "<b> Image Negative Transformation S=(L-1)-r S=(256-1)-r S=255-r </b>"
   ]
  },
  {
   "cell_type": "code",
   "execution_count": 1,
   "metadata": {},
   "outputs": [],
   "source": [
    "#Importing necessary modules.\n",
    "import cv2\n",
    "\n",
    "#Reading the image.\n",
    "img_1= cv2.imread('Friends.jpg',0)\n",
    "img_2= 255 - img_1\n",
    "\n",
    "#Returning the images.\n",
    "cv2.imshow('Input Image',img_1)\n",
    "cv2.imshow('Negative Image', img_2)\n",
    "cv2.waitKey(0)\n",
    "cv2.destroyAllWindows()"
   ]
  },
  {
   "cell_type": "markdown",
   "metadata": {},
   "source": [
    "<b> Log Tansformations </b>"
   ]
  },
  {
   "cell_type": "markdown",
   "metadata": {},
   "source": [
    "<b> Image Log Transformation S=c log(1+r) </b>"
   ]
  },
  {
   "cell_type": "code",
   "execution_count": 2,
   "metadata": {},
   "outputs": [],
   "source": [
    "#Importing necessary modules.\n",
    "import cv2\n",
    "import numpy as np\n",
    "\n",
    "#Reading the image.\n",
    "img_1= cv2.imread('Friends.jpg',0)\n",
    "img_2= np.uint8(np.log1p(img_1))\n",
    "thresh=1\n",
    "img_3= cv2.threshold(img_2,thresh,255,cv2.THRESH_BINARY)[1]\n",
    "\n",
    "#Returning the images.\n",
    "cv2.imshow('Input Image',img_1)\n",
    "cv2.imshow('Log Transformed Image', img_3)\n",
    "cv2.waitKey(0)\n",
    "cv2.destroyAllWindows()"
   ]
  },
  {
   "cell_type": "markdown",
   "metadata": {},
   "source": [
    "<b> Power Law Transformation </b>"
   ]
  },
  {
   "cell_type": "markdown",
   "metadata": {},
   "source": [
    "<b>S=cr^gamma </b>"
   ]
  },
  {
   "cell_type": "code",
   "execution_count": 4,
   "metadata": {},
   "outputs": [],
   "source": [
    "#Importing necessary modules.\n",
    "import cv2\n",
    "import numpy as np\n",
    "\n",
    "#Reading the image.\n",
    "img_1= cv2.imread('Friends.jpg',0)\n",
    "gamma=1\n",
    "img_2= np.power(img_1,gamma)\n",
    "gamma=1.5\n",
    "img_3= np.power(img_1,gamma)\n",
    "gamma=4\n",
    "img_4= np.power(img_1,gamma)\n",
    "gamma=0.7\n",
    "img_5= np.power(img_1,gamma)\n",
    "\n",
    "#Returning the images.\n",
    "cv2.imshow('Input Image',img_1)\n",
    "cv2.imshow('Gamma Correction_1', img_2)\n",
    "cv2.imshow('Camma Correction_2', img_3)\n",
    "cv2.imshow('Gamma Correction_3', img_4)\n",
    "cv2.imshow('Gamma Correction_4', img_5)\n",
    "cv2.waitKey(0)\n",
    "cv2.destroyAllWindows()"
   ]
  },
  {
   "cell_type": "code",
   "execution_count": null,
   "metadata": {},
   "outputs": [],
   "source": []
  }
 ],
 "metadata": {
  "kernelspec": {
   "display_name": "Python 3",
   "language": "python",
   "name": "python3"
  },
  "language_info": {
   "codemirror_mode": {
    "name": "ipython",
    "version": 3
   },
   "file_extension": ".py",
   "mimetype": "text/x-python",
   "name": "python",
   "nbconvert_exporter": "python",
   "pygments_lexer": "ipython3",
   "version": "3.8.3"
  }
 },
 "nbformat": 4,
 "nbformat_minor": 4
}
